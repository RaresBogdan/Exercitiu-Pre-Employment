{
 "cells": [
  {
   "cell_type": "code",
   "execution_count": null,
   "metadata": {},
   "outputs": [],
   "source": [
    "#Given a string, return a string where for every char in the original, there are two chars.\n",
    "\n",
    "# double_char('The') → 'TThhee'\n",
    "# double_char('AAbb') → 'AAAAbbbb'\n",
    "# double_char('Hi-There') → 'HHii--TThheerree'"
   ]
  },
  {
   "cell_type": "code",
   "execution_count": null,
   "metadata": {},
   "outputs": [],
   "source": [
    "def double_char(str):\n",
    "  to_return = ''\n",
    "  for c in str:\n",
    "    to_return += c*2\n",
    "  return to_return"
   ]
  },
  {
   "cell_type": "code",
   "execution_count": null,
   "metadata": {},
   "outputs": [],
   "source": [
    "# This is exercise that is available to my current level of programmin knowledge \n",
    "# The first step was to initialize a new empty string and then run a For loop over the string, for every character c in the string we are going to add it in to_return twice. This particular method might not be the most efficient solution depending on how the particular version of Python "
   ]
  }
 ],
 "metadata": {
  "kernelspec": {
   "display_name": "Python 3",
   "language": "python",
   "name": "python3"
  },
  "language_info": {
   "codemirror_mode": {
    "name": "ipython",
    "version": 3
   },
   "file_extension": ".py",
   "mimetype": "text/x-python",
   "name": "python",
   "nbconvert_exporter": "python",
   "pygments_lexer": "ipython3",
   "version": "3.8.5"
  }
 },
 "nbformat": 4,
 "nbformat_minor": 4
}
